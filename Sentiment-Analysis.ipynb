{
  "nbformat": 4,
  "nbformat_minor": 0,
  "metadata": {
    "kernelspec": {
      "name": "python3",
      "display_name": "Python 3"
    },
    "language_info": {
      "codemirror_mode": {
        "name": "ipython",
        "version": 3
      },
      "file_extension": ".py",
      "mimetype": "text/x-python",
      "name": "python",
      "nbconvert_exporter": "python",
      "pygments_lexer": "ipython3",
      "version": "3.7.4-final"
    },
    "colab": {
      "name": "PA2-Part1.ipynb",
      "provenance": [],
      "collapsed_sections": []
    },
    "accelerator": "GPU"
  },
  "cells": [
    {
      "cell_type": "markdown",
      "metadata": {
        "id": "dqcqh8A5gqky",
        "colab_type": "text"
      },
      "source": [
        "## Sentiment Analysis\n",
        "\n",
        "In the code provided below, you need to add code wherever specified by `TODO:`. \n",
        "\n",
        "> You will be using a Python collection class - `Counter` to maintain the word counts. \n",
        "\n",
        "> See https://docs.python.org/2/library/collections.html for more details."
      ]
    },
    {
      "cell_type": "code",
      "metadata": {
        "id": "-3rWGhrRgqkz",
        "colab_type": "code",
        "colab": {}
      },
      "source": [
        "from collections import Counter\n",
        "import numpy as np\n",
        "import matplotlib.pyplot as plt\n",
        "import time\n",
        "%matplotlib inline\n",
        "import re"
      ],
      "execution_count": 1,
      "outputs": []
    },
    {
      "cell_type": "code",
      "metadata": {
        "id": "MiZ6h0rOgqk4",
        "colab_type": "code",
        "colab": {}
      },
      "source": [
        "# read data files \n",
        "g = open('reviews.txt','r') # What we know!\n",
        "reviews_all = list(map(lambda x:x[:-1],g.readlines()))\n",
        "g.close()\n",
        "g = open('labels.txt','r') # What we WANT to know!\n",
        "sentiments_all = list(map(lambda x:x[:-1].upper(),g.readlines()))\n",
        "g.close()\n",
        "\n",
        "# load vocabulary\n",
        "g = open('vocab.txt','r')\n",
        "vocab = [s.strip() for s in g.readlines()]"
      ],
      "execution_count": 2,
      "outputs": []
    },
    {
      "cell_type": "markdown",
      "metadata": {
        "id": "VnFeXB9Xgqk7",
        "colab_type": "text"
      },
      "source": [
        "The data is a set of 25000 movie reviews, along with a `POSITIVE` or `NEGATIVE` sentiment label assigned to the review."
      ]
    },
    {
      "cell_type": "code",
      "metadata": {
        "id": "hhKqarUvgqk7",
        "colab_type": "code",
        "outputId": "e1cffeab-6819-4ad5-fe08-7ba5fc2c111d",
        "colab": {
          "base_uri": "https://localhost:8080/",
          "height": 121
        }
      },
      "source": [
        "# Check out sample reviews\n",
        "print('A {} review:'.format(sentiments_all[0]))\n",
        "print(reviews_all[0])\n",
        "print('\\nA {} review:'.format(sentiments_all[1]))\n",
        "print(reviews_all[1])"
      ],
      "execution_count": 3,
      "outputs": [
        {
          "output_type": "stream",
          "name": "stdout",
          "text": "A POSITIVE review:\nbromwell high is a cartoon comedy . it ran at the same time as some other programs about school life  such as  teachers  . my   years in the teaching profession lead me to believe that bromwell high  s satire is much closer to reality than is  teachers  . the scramble to survive financially  the insightful students who can see right through their pathetic teachers  pomp  the pettiness of the whole situation  all remind me of the schools i knew and their students . when i saw the episode in which a student repeatedly tried to burn down the school  i immediately recalled . . . . . . . . . at . . . . . . . . . . high . a classic line inspector i  m here to sack one of your teachers . student welcome to bromwell high . i expect that many adults of my age think that bromwell high is far fetched . what a pity that it isn  t   \n\nA NEGATIVE review:\nstory of a man who has unnatural feelings for a pig . starts out with a opening scene that is a terrific example of absurd comedy . a formal orchestra audience is turned into an insane  violent mob by the crazy chantings of it  s singers . unfortunately it stays absurd the whole time with no general narrative eventually making it just too off putting . even those from the era should be turned off . the cryptic dialogue would make shakespeare seem easy to a third grader . on a technical level it  s better than you might think with some good cinematography by future great vilmos zsigmond . future stars sally kirkland and frederic forrest can be seen briefly .  \n"
        }
      ]
    },
    {
      "cell_type": "code",
      "metadata": {
        "id": "YHEh7MRFgqlB",
        "colab_type": "code",
        "colab": {}
      },
      "source": [
        "# split into training and test data\n",
        "reviews_train,reviews_test = reviews_all[0:24000],reviews_all[24000:]\n",
        "sentiments_train,sentiments_test = sentiments_all[0:24000],sentiments_all[24000:]"
      ],
      "execution_count": 4,
      "outputs": []
    },
    {
      "cell_type": "code",
      "metadata": {
        "id": "KlgCIJZ8gqlF",
        "colab_type": "code",
        "outputId": "c5c178c6-2040-407f-f3d4-3a50973ae9ce",
        "colab": {
          "base_uri": "https://localhost:8080/",
          "height": 67
        }
      },
      "source": [
        "# maintain Counter objects to store positive, negative and total counts for\n",
        "# all the words present in the positive, negative and total reviews.\n",
        "positive_word_count = Counter()\n",
        "negative_word_count = Counter()\n",
        "total_counts = Counter()\n",
        "# TODO: Loop over all the words in the vocabulary\n",
        "# and increment the counts in the appropriate counter objects\n",
        "# based on the training data\n",
        "start_time = time.time()\n",
        "for pos_review in reviews_train[::2]:\n",
        "    positive_word_count.update(pos_review.split(\" \"))\n",
        "for neg_review in reviews_train[1::2]:\n",
        "    negative_word_count.update(neg_review.split(\" \"))\n",
        "total_counts = positive_word_count + negative_word_count"
      ],
      "execution_count": 5,
      "outputs": []
    },
    {
      "cell_type": "code",
      "metadata": {
        "id": "3NGbaAcYgqlI",
        "colab_type": "code",
        "outputId": "37bbf27a-3df0-465a-b7a4-071b2ffd271a",
        "colab": {
          "base_uri": "https://localhost:8080/",
          "height": 34
        }
      },
      "source": [
        "# maintain a Counter object to store positive to negative ratios \n",
        "pos_neg_ratios = Counter()\n",
        "start_time2 = time.time()\n",
        "# Calculate the ratios of positive and negative uses of the most common words\n",
        "# Consider words to be \"common\" if they've been used at least 100 times\n",
        "common_keys = positive_word_count.keys() & negative_word_count.keys()\n",
        "for term,cnt in list(total_counts.most_common()):\n",
        "    if(cnt > 100):\n",
        "        # TODO: Code for calculating the ratios (remove the next line)\n",
        "        for key in common_keys:\n",
        "            pos_neg_ratios[key] = (positive_word_count[key]/negative_word_count[key])"
      ],
      "execution_count": 6,
      "outputs": []
    },
    {
      "cell_type": "code",
      "metadata": {
        "id": "9BgUltrsgqlM",
        "colab_type": "code",
        "outputId": "aa0a991a-48a9-440c-e2ee-d3aae1c4187e",
        "colab": {
          "base_uri": "https://localhost:8080/",
          "height": 67
        }
      },
      "source": [
        "print(\"Pos-to-neg ratio for 'the' = {}\".format(pos_neg_ratios[\"the\"]))\n",
        "print(\"Pos-to-neg ratio for 'amazing' = {}\".format(pos_neg_ratios[\"amazing\"]))\n",
        "print(\"Pos-to-neg ratio for 'terrible' = {}\".format(pos_neg_ratios[\"terrible\"]))"
      ],
      "execution_count": 7,
      "outputs": [
        {
          "output_type": "stream",
          "name": "stdout",
          "text": "Pos-to-neg ratio for 'the' = 1.0618582280413789\nPos-to-neg ratio for 'amazing' = 4.031496062992126\nPos-to-neg ratio for 'terrible' = 0.17256637168141592\n"
        }
      ]
    },
    {
      "cell_type": "code",
      "metadata": {
        "id": "jQ3ZZIfogqlQ",
        "colab_type": "code",
        "colab": {}
      },
      "source": [
        "# take a log of the ratio\n",
        "for word,ratio in pos_neg_ratios.most_common():\n",
        "    pos_neg_ratios[word] = np.log(ratio)\n",
        "    "
      ],
      "execution_count": 8,
      "outputs": []
    },
    {
      "cell_type": "code",
      "metadata": {
        "id": "zFc2eNdvgqlS",
        "colab_type": "code",
        "outputId": "d4c2470d-e847-4bc4-ea53-1625ab5d5ee6",
        "colab": {
          "base_uri": "https://localhost:8080/",
          "height": 267
        }
      },
      "source": [
        "# visualize the distribution of the log-ratio scores\n",
        "scores = np.array(list(pos_neg_ratios.values()))\n",
        "vocab_selected = list(pos_neg_ratios.keys())\n",
        "\n",
        "h = plt.hist(scores,bins=20)"
      ],
      "execution_count": 9,
      "outputs": [
        {
          "output_type": "display_data",
          "data": {
            "text/plain": "<Figure size 432x288 with 1 Axes>",
            "image/svg+xml": "<?xml version=\"1.0\" encoding=\"utf-8\" standalone=\"no\"?>\r\n<!DOCTYPE svg PUBLIC \"-//W3C//DTD SVG 1.1//EN\"\r\n  \"http://www.w3.org/Graphics/SVG/1.1/DTD/svg11.dtd\">\r\n<!-- Created with matplotlib (https://matplotlib.org/) -->\r\n<svg height=\"250.322323pt\" version=\"1.1\" viewBox=\"0 0 388.0125 250.322323\" width=\"388.0125pt\" xmlns=\"http://www.w3.org/2000/svg\" xmlns:xlink=\"http://www.w3.org/1999/xlink\">\r\n <defs>\r\n  <style type=\"text/css\">\r\n*{stroke-linecap:butt;stroke-linejoin:round;}\r\n  </style>\r\n </defs>\r\n <g id=\"figure_1\">\r\n  <g id=\"patch_1\">\r\n   <path d=\"M 0 250.322323 \r\nL 388.0125 250.322323 \r\nL 388.0125 0 \r\nL 0 0 \r\nz\r\n\" style=\"fill:none;\"/>\r\n  </g>\r\n  <g id=\"axes_1\">\r\n   <g id=\"patch_2\">\r\n    <path d=\"M 46.0125 226.444198 \r\nL 380.8125 226.444198 \r\nL 380.8125 9.004198 \r\nL 46.0125 9.004198 \r\nz\r\n\" style=\"fill:#ffffff;\"/>\r\n   </g>\r\n   <g id=\"patch_3\">\r\n    <path clip-path=\"url(#p99abc6f58a)\" d=\"M 61.230682 226.444198 \r\nL 76.448864 226.444198 \r\nL 76.448864 226.401109 \r\nL 61.230682 226.401109 \r\nz\r\n\" style=\"fill:#1f77b4;\"/>\r\n   </g>\r\n   <g id=\"patch_4\">\r\n    <path clip-path=\"url(#p99abc6f58a)\" d=\"M 76.448864 226.444198 \r\nL 91.667045 226.444198 \r\nL 91.667045 226.401109 \r\nL 76.448864 226.401109 \r\nz\r\n\" style=\"fill:#1f77b4;\"/>\r\n   </g>\r\n   <g id=\"patch_5\">\r\n    <path clip-path=\"url(#p99abc6f58a)\" d=\"M 91.667045 226.444198 \r\nL 106.885227 226.444198 \r\nL 106.885227 226.336476 \r\nL 91.667045 226.336476 \r\nz\r\n\" style=\"fill:#1f77b4;\"/>\r\n   </g>\r\n   <g id=\"patch_6\">\r\n    <path clip-path=\"url(#p99abc6f58a)\" d=\"M 106.885227 226.444198 \r\nL 122.103409 226.444198 \r\nL 122.103409 226.121031 \r\nL 106.885227 226.121031 \r\nz\r\n\" style=\"fill:#1f77b4;\"/>\r\n   </g>\r\n   <g id=\"patch_7\">\r\n    <path clip-path=\"url(#p99abc6f58a)\" d=\"M 122.103409 226.444198 \r\nL 137.321591 226.444198 \r\nL 137.321591 225.280795 \r\nL 122.103409 225.280795 \r\nz\r\n\" style=\"fill:#1f77b4;\"/>\r\n   </g>\r\n   <g id=\"patch_8\">\r\n    <path clip-path=\"url(#p99abc6f58a)\" d=\"M 137.321591 226.444198 \r\nL 152.539773 226.444198 \r\nL 152.539773 222.781634 \r\nL 137.321591 222.781634 \r\nz\r\n\" style=\"fill:#1f77b4;\"/>\r\n   </g>\r\n   <g id=\"patch_9\">\r\n    <path clip-path=\"url(#p99abc6f58a)\" d=\"M 152.539773 226.444198 \r\nL 167.757955 226.444198 \r\nL 167.757955 217.912577 \r\nL 152.539773 217.912577 \r\nz\r\n\" style=\"fill:#1f77b4;\"/>\r\n   </g>\r\n   <g id=\"patch_10\">\r\n    <path clip-path=\"url(#p99abc6f58a)\" d=\"M 167.757955 226.444198 \r\nL 182.976136 226.444198 \r\nL 182.976136 197.316037 \r\nL 167.757955 197.316037 \r\nz\r\n\" style=\"fill:#1f77b4;\"/>\r\n   </g>\r\n   <g id=\"patch_11\">\r\n    <path clip-path=\"url(#p99abc6f58a)\" d=\"M 182.976136 226.444198 \r\nL 198.194318 226.444198 \r\nL 198.194318 186.974678 \r\nL 182.976136 186.974678 \r\nz\r\n\" style=\"fill:#1f77b4;\"/>\r\n   </g>\r\n   <g id=\"patch_12\">\r\n    <path clip-path=\"url(#p99abc6f58a)\" d=\"M 198.194318 226.444198 \r\nL 213.4125 226.444198 \r\nL 213.4125 136.043485 \r\nL 198.194318 136.043485 \r\nz\r\n\" style=\"fill:#1f77b4;\"/>\r\n   </g>\r\n   <g id=\"patch_13\">\r\n    <path clip-path=\"url(#p99abc6f58a)\" d=\"M 213.4125 226.444198 \r\nL 228.630682 226.444198 \r\nL 228.630682 127.339508 \r\nL 213.4125 127.339508 \r\nz\r\n\" style=\"fill:#1f77b4;\"/>\r\n   </g>\r\n   <g id=\"patch_14\">\r\n    <path clip-path=\"url(#p99abc6f58a)\" d=\"M 228.630682 226.444198 \r\nL 243.848864 226.444198 \r\nL 243.848864 19.358484 \r\nL 228.630682 19.358484 \r\nz\r\n\" style=\"fill:#1f77b4;\"/>\r\n   </g>\r\n   <g id=\"patch_15\">\r\n    <path clip-path=\"url(#p99abc6f58a)\" d=\"M 243.848864 226.444198 \r\nL 259.067045 226.444198 \r\nL 259.067045 96.207708 \r\nL 243.848864 96.207708 \r\nz\r\n\" style=\"fill:#1f77b4;\"/>\r\n   </g>\r\n   <g id=\"patch_16\">\r\n    <path clip-path=\"url(#p99abc6f58a)\" d=\"M 259.067045 226.444198 \r\nL 274.285227 226.444198 \r\nL 274.285227 161.832249 \r\nL 259.067045 161.832249 \r\nz\r\n\" style=\"fill:#1f77b4;\"/>\r\n   </g>\r\n   <g id=\"patch_17\">\r\n    <path clip-path=\"url(#p99abc6f58a)\" d=\"M 274.285227 226.444198 \r\nL 289.503409 226.444198 \r\nL 289.503409 190.33562 \r\nL 274.285227 190.33562 \r\nz\r\n\" style=\"fill:#1f77b4;\"/>\r\n   </g>\r\n   <g id=\"patch_18\">\r\n    <path clip-path=\"url(#p99abc6f58a)\" d=\"M 289.503409 226.444198 \r\nL 304.721591 226.444198 \r\nL 304.721591 211.384594 \r\nL 289.503409 211.384594 \r\nz\r\n\" style=\"fill:#1f77b4;\"/>\r\n   </g>\r\n   <g id=\"patch_19\">\r\n    <path clip-path=\"url(#p99abc6f58a)\" d=\"M 304.721591 226.444198 \r\nL 319.939773 226.444198 \r\nL 319.939773 219.70077 \r\nL 304.721591 219.70077 \r\nz\r\n\" style=\"fill:#1f77b4;\"/>\r\n   </g>\r\n   <g id=\"patch_20\">\r\n    <path clip-path=\"url(#p99abc6f58a)\" d=\"M 319.939773 226.444198 \r\nL 335.157955 226.444198 \r\nL 335.157955 223.837314 \r\nL 319.939773 223.837314 \r\nz\r\n\" style=\"fill:#1f77b4;\"/>\r\n   </g>\r\n   <g id=\"patch_21\">\r\n    <path clip-path=\"url(#p99abc6f58a)\" d=\"M 335.157955 226.444198 \r\nL 350.376136 226.444198 \r\nL 350.376136 225.366973 \r\nL 335.157955 225.366973 \r\nz\r\n\" style=\"fill:#1f77b4;\"/>\r\n   </g>\r\n   <g id=\"patch_22\">\r\n    <path clip-path=\"url(#p99abc6f58a)\" d=\"M 350.376136 226.444198 \r\nL 365.594318 226.444198 \r\nL 365.594318 226.207209 \r\nL 350.376136 226.207209 \r\nz\r\n\" style=\"fill:#1f77b4;\"/>\r\n   </g>\r\n   <g id=\"matplotlib.axis_1\">\r\n    <g id=\"xtick_1\">\r\n     <g id=\"line2d_1\">\r\n      <defs>\r\n       <path d=\"M 0 0 \r\nL 0 3.5 \r\n\" id=\"mfeb1e8ae64\" style=\"stroke:#000000;stroke-width:0.8;\"/>\r\n      </defs>\r\n      <g>\r\n       <use style=\"stroke:#000000;stroke-width:0.8;\" x=\"93.822562\" xlink:href=\"#mfeb1e8ae64\" y=\"226.444198\"/>\r\n      </g>\r\n     </g>\r\n     <g id=\"text_1\">\r\n      <!-- −4 -->\r\n      <defs>\r\n       <path d=\"M 10.59375 35.5 \r\nL 73.1875 35.5 \r\nL 73.1875 27.203125 \r\nL 10.59375 27.203125 \r\nz\r\n\" id=\"DejaVuSans-8722\"/>\r\n       <path d=\"M 37.796875 64.3125 \r\nL 12.890625 25.390625 \r\nL 37.796875 25.390625 \r\nz\r\nM 35.203125 72.90625 \r\nL 47.609375 72.90625 \r\nL 47.609375 25.390625 \r\nL 58.015625 25.390625 \r\nL 58.015625 17.1875 \r\nL 47.609375 17.1875 \r\nL 47.609375 0 \r\nL 37.796875 0 \r\nL 37.796875 17.1875 \r\nL 4.890625 17.1875 \r\nL 4.890625 26.703125 \r\nz\r\n\" id=\"DejaVuSans-52\"/>\r\n      </defs>\r\n      <g transform=\"translate(86.451468 241.042636)scale(0.1 -0.1)\">\r\n       <use xlink:href=\"#DejaVuSans-8722\"/>\r\n       <use x=\"83.789062\" xlink:href=\"#DejaVuSans-52\"/>\r\n      </g>\r\n     </g>\r\n    </g>\r\n    <g id=\"xtick_2\">\r\n     <g id=\"line2d_2\">\r\n      <g>\r\n       <use style=\"stroke:#000000;stroke-width:0.8;\" x=\"162.018748\" xlink:href=\"#mfeb1e8ae64\" y=\"226.444198\"/>\r\n      </g>\r\n     </g>\r\n     <g id=\"text_2\">\r\n      <!-- −2 -->\r\n      <defs>\r\n       <path d=\"M 19.1875 8.296875 \r\nL 53.609375 8.296875 \r\nL 53.609375 0 \r\nL 7.328125 0 \r\nL 7.328125 8.296875 \r\nQ 12.9375 14.109375 22.625 23.890625 \r\nQ 32.328125 33.6875 34.8125 36.53125 \r\nQ 39.546875 41.84375 41.421875 45.53125 \r\nQ 43.3125 49.21875 43.3125 52.78125 \r\nQ 43.3125 58.59375 39.234375 62.25 \r\nQ 35.15625 65.921875 28.609375 65.921875 \r\nQ 23.96875 65.921875 18.8125 64.3125 \r\nQ 13.671875 62.703125 7.8125 59.421875 \r\nL 7.8125 69.390625 \r\nQ 13.765625 71.78125 18.9375 73 \r\nQ 24.125 74.21875 28.421875 74.21875 \r\nQ 39.75 74.21875 46.484375 68.546875 \r\nQ 53.21875 62.890625 53.21875 53.421875 \r\nQ 53.21875 48.921875 51.53125 44.890625 \r\nQ 49.859375 40.875 45.40625 35.40625 \r\nQ 44.1875 33.984375 37.640625 27.21875 \r\nQ 31.109375 20.453125 19.1875 8.296875 \r\nz\r\n\" id=\"DejaVuSans-50\"/>\r\n      </defs>\r\n      <g transform=\"translate(154.647654 241.042636)scale(0.1 -0.1)\">\r\n       <use xlink:href=\"#DejaVuSans-8722\"/>\r\n       <use x=\"83.789062\" xlink:href=\"#DejaVuSans-50\"/>\r\n      </g>\r\n     </g>\r\n    </g>\r\n    <g id=\"xtick_3\">\r\n     <g id=\"line2d_3\">\r\n      <g>\r\n       <use style=\"stroke:#000000;stroke-width:0.8;\" x=\"230.214935\" xlink:href=\"#mfeb1e8ae64\" y=\"226.444198\"/>\r\n      </g>\r\n     </g>\r\n     <g id=\"text_3\">\r\n      <!-- 0 -->\r\n      <defs>\r\n       <path d=\"M 31.78125 66.40625 \r\nQ 24.171875 66.40625 20.328125 58.90625 \r\nQ 16.5 51.421875 16.5 36.375 \r\nQ 16.5 21.390625 20.328125 13.890625 \r\nQ 24.171875 6.390625 31.78125 6.390625 \r\nQ 39.453125 6.390625 43.28125 13.890625 \r\nQ 47.125 21.390625 47.125 36.375 \r\nQ 47.125 51.421875 43.28125 58.90625 \r\nQ 39.453125 66.40625 31.78125 66.40625 \r\nz\r\nM 31.78125 74.21875 \r\nQ 44.046875 74.21875 50.515625 64.515625 \r\nQ 56.984375 54.828125 56.984375 36.375 \r\nQ 56.984375 17.96875 50.515625 8.265625 \r\nQ 44.046875 -1.421875 31.78125 -1.421875 \r\nQ 19.53125 -1.421875 13.0625 8.265625 \r\nQ 6.59375 17.96875 6.59375 36.375 \r\nQ 6.59375 54.828125 13.0625 64.515625 \r\nQ 19.53125 74.21875 31.78125 74.21875 \r\nz\r\n\" id=\"DejaVuSans-48\"/>\r\n      </defs>\r\n      <g transform=\"translate(227.033685 241.042636)scale(0.1 -0.1)\">\r\n       <use xlink:href=\"#DejaVuSans-48\"/>\r\n      </g>\r\n     </g>\r\n    </g>\r\n    <g id=\"xtick_4\">\r\n     <g id=\"line2d_4\">\r\n      <g>\r\n       <use style=\"stroke:#000000;stroke-width:0.8;\" x=\"298.411121\" xlink:href=\"#mfeb1e8ae64\" y=\"226.444198\"/>\r\n      </g>\r\n     </g>\r\n     <g id=\"text_4\">\r\n      <!-- 2 -->\r\n      <g transform=\"translate(295.229871 241.042636)scale(0.1 -0.1)\">\r\n       <use xlink:href=\"#DejaVuSans-50\"/>\r\n      </g>\r\n     </g>\r\n    </g>\r\n    <g id=\"xtick_5\">\r\n     <g id=\"line2d_5\">\r\n      <g>\r\n       <use style=\"stroke:#000000;stroke-width:0.8;\" x=\"366.607307\" xlink:href=\"#mfeb1e8ae64\" y=\"226.444198\"/>\r\n      </g>\r\n     </g>\r\n     <g id=\"text_5\">\r\n      <!-- 4 -->\r\n      <g transform=\"translate(363.426057 241.042636)scale(0.1 -0.1)\">\r\n       <use xlink:href=\"#DejaVuSans-52\"/>\r\n      </g>\r\n     </g>\r\n    </g>\r\n   </g>\r\n   <g id=\"matplotlib.axis_2\">\r\n    <g id=\"ytick_1\">\r\n     <g id=\"line2d_6\">\r\n      <defs>\r\n       <path d=\"M 0 0 \r\nL -3.5 0 \r\n\" id=\"m4af9ae364d\" style=\"stroke:#000000;stroke-width:0.8;\"/>\r\n      </defs>\r\n      <g>\r\n       <use style=\"stroke:#000000;stroke-width:0.8;\" x=\"46.0125\" xlink:href=\"#m4af9ae364d\" y=\"226.444198\"/>\r\n      </g>\r\n     </g>\r\n     <g id=\"text_6\">\r\n      <!-- 0 -->\r\n      <g transform=\"translate(32.65 230.243417)scale(0.1 -0.1)\">\r\n       <use xlink:href=\"#DejaVuSans-48\"/>\r\n      </g>\r\n     </g>\r\n    </g>\r\n    <g id=\"ytick_2\">\r\n     <g id=\"line2d_7\">\r\n      <g>\r\n       <use style=\"stroke:#000000;stroke-width:0.8;\" x=\"46.0125\" xlink:href=\"#m4af9ae364d\" y=\"183.355202\"/>\r\n      </g>\r\n     </g>\r\n     <g id=\"text_7\">\r\n      <!-- 2000 -->\r\n      <g transform=\"translate(13.5625 187.154421)scale(0.1 -0.1)\">\r\n       <use xlink:href=\"#DejaVuSans-50\"/>\r\n       <use x=\"63.623047\" xlink:href=\"#DejaVuSans-48\"/>\r\n       <use x=\"127.246094\" xlink:href=\"#DejaVuSans-48\"/>\r\n       <use x=\"190.869141\" xlink:href=\"#DejaVuSans-48\"/>\r\n      </g>\r\n     </g>\r\n    </g>\r\n    <g id=\"ytick_3\">\r\n     <g id=\"line2d_8\">\r\n      <g>\r\n       <use style=\"stroke:#000000;stroke-width:0.8;\" x=\"46.0125\" xlink:href=\"#m4af9ae364d\" y=\"140.266206\"/>\r\n      </g>\r\n     </g>\r\n     <g id=\"text_8\">\r\n      <!-- 4000 -->\r\n      <g transform=\"translate(13.5625 144.065425)scale(0.1 -0.1)\">\r\n       <use xlink:href=\"#DejaVuSans-52\"/>\r\n       <use x=\"63.623047\" xlink:href=\"#DejaVuSans-48\"/>\r\n       <use x=\"127.246094\" xlink:href=\"#DejaVuSans-48\"/>\r\n       <use x=\"190.869141\" xlink:href=\"#DejaVuSans-48\"/>\r\n      </g>\r\n     </g>\r\n    </g>\r\n    <g id=\"ytick_4\">\r\n     <g id=\"line2d_9\">\r\n      <g>\r\n       <use style=\"stroke:#000000;stroke-width:0.8;\" x=\"46.0125\" xlink:href=\"#m4af9ae364d\" y=\"97.177211\"/>\r\n      </g>\r\n     </g>\r\n     <g id=\"text_9\">\r\n      <!-- 6000 -->\r\n      <defs>\r\n       <path d=\"M 33.015625 40.375 \r\nQ 26.375 40.375 22.484375 35.828125 \r\nQ 18.609375 31.296875 18.609375 23.390625 \r\nQ 18.609375 15.53125 22.484375 10.953125 \r\nQ 26.375 6.390625 33.015625 6.390625 \r\nQ 39.65625 6.390625 43.53125 10.953125 \r\nQ 47.40625 15.53125 47.40625 23.390625 \r\nQ 47.40625 31.296875 43.53125 35.828125 \r\nQ 39.65625 40.375 33.015625 40.375 \r\nz\r\nM 52.59375 71.296875 \r\nL 52.59375 62.3125 \r\nQ 48.875 64.0625 45.09375 64.984375 \r\nQ 41.3125 65.921875 37.59375 65.921875 \r\nQ 27.828125 65.921875 22.671875 59.328125 \r\nQ 17.53125 52.734375 16.796875 39.40625 \r\nQ 19.671875 43.65625 24.015625 45.921875 \r\nQ 28.375 48.1875 33.59375 48.1875 \r\nQ 44.578125 48.1875 50.953125 41.515625 \r\nQ 57.328125 34.859375 57.328125 23.390625 \r\nQ 57.328125 12.15625 50.6875 5.359375 \r\nQ 44.046875 -1.421875 33.015625 -1.421875 \r\nQ 20.359375 -1.421875 13.671875 8.265625 \r\nQ 6.984375 17.96875 6.984375 36.375 \r\nQ 6.984375 53.65625 15.1875 63.9375 \r\nQ 23.390625 74.21875 37.203125 74.21875 \r\nQ 40.921875 74.21875 44.703125 73.484375 \r\nQ 48.484375 72.75 52.59375 71.296875 \r\nz\r\n\" id=\"DejaVuSans-54\"/>\r\n      </defs>\r\n      <g transform=\"translate(13.5625 100.976429)scale(0.1 -0.1)\">\r\n       <use xlink:href=\"#DejaVuSans-54\"/>\r\n       <use x=\"63.623047\" xlink:href=\"#DejaVuSans-48\"/>\r\n       <use x=\"127.246094\" xlink:href=\"#DejaVuSans-48\"/>\r\n       <use x=\"190.869141\" xlink:href=\"#DejaVuSans-48\"/>\r\n      </g>\r\n     </g>\r\n    </g>\r\n    <g id=\"ytick_5\">\r\n     <g id=\"line2d_10\">\r\n      <g>\r\n       <use style=\"stroke:#000000;stroke-width:0.8;\" x=\"46.0125\" xlink:href=\"#m4af9ae364d\" y=\"54.088215\"/>\r\n      </g>\r\n     </g>\r\n     <g id=\"text_10\">\r\n      <!-- 8000 -->\r\n      <defs>\r\n       <path d=\"M 31.78125 34.625 \r\nQ 24.75 34.625 20.71875 30.859375 \r\nQ 16.703125 27.09375 16.703125 20.515625 \r\nQ 16.703125 13.921875 20.71875 10.15625 \r\nQ 24.75 6.390625 31.78125 6.390625 \r\nQ 38.8125 6.390625 42.859375 10.171875 \r\nQ 46.921875 13.96875 46.921875 20.515625 \r\nQ 46.921875 27.09375 42.890625 30.859375 \r\nQ 38.875 34.625 31.78125 34.625 \r\nz\r\nM 21.921875 38.8125 \r\nQ 15.578125 40.375 12.03125 44.71875 \r\nQ 8.5 49.078125 8.5 55.328125 \r\nQ 8.5 64.0625 14.71875 69.140625 \r\nQ 20.953125 74.21875 31.78125 74.21875 \r\nQ 42.671875 74.21875 48.875 69.140625 \r\nQ 55.078125 64.0625 55.078125 55.328125 \r\nQ 55.078125 49.078125 51.53125 44.71875 \r\nQ 48 40.375 41.703125 38.8125 \r\nQ 48.828125 37.15625 52.796875 32.3125 \r\nQ 56.78125 27.484375 56.78125 20.515625 \r\nQ 56.78125 9.90625 50.3125 4.234375 \r\nQ 43.84375 -1.421875 31.78125 -1.421875 \r\nQ 19.734375 -1.421875 13.25 4.234375 \r\nQ 6.78125 9.90625 6.78125 20.515625 \r\nQ 6.78125 27.484375 10.78125 32.3125 \r\nQ 14.796875 37.15625 21.921875 38.8125 \r\nz\r\nM 18.3125 54.390625 \r\nQ 18.3125 48.734375 21.84375 45.5625 \r\nQ 25.390625 42.390625 31.78125 42.390625 \r\nQ 38.140625 42.390625 41.71875 45.5625 \r\nQ 45.3125 48.734375 45.3125 54.390625 \r\nQ 45.3125 60.0625 41.71875 63.234375 \r\nQ 38.140625 66.40625 31.78125 66.40625 \r\nQ 25.390625 66.40625 21.84375 63.234375 \r\nQ 18.3125 60.0625 18.3125 54.390625 \r\nz\r\n\" id=\"DejaVuSans-56\"/>\r\n      </defs>\r\n      <g transform=\"translate(13.5625 57.887433)scale(0.1 -0.1)\">\r\n       <use xlink:href=\"#DejaVuSans-56\"/>\r\n       <use x=\"63.623047\" xlink:href=\"#DejaVuSans-48\"/>\r\n       <use x=\"127.246094\" xlink:href=\"#DejaVuSans-48\"/>\r\n       <use x=\"190.869141\" xlink:href=\"#DejaVuSans-48\"/>\r\n      </g>\r\n     </g>\r\n    </g>\r\n    <g id=\"ytick_6\">\r\n     <g id=\"line2d_11\">\r\n      <g>\r\n       <use style=\"stroke:#000000;stroke-width:0.8;\" x=\"46.0125\" xlink:href=\"#m4af9ae364d\" y=\"10.999219\"/>\r\n      </g>\r\n     </g>\r\n     <g id=\"text_11\">\r\n      <!-- 10000 -->\r\n      <defs>\r\n       <path d=\"M 12.40625 8.296875 \r\nL 28.515625 8.296875 \r\nL 28.515625 63.921875 \r\nL 10.984375 60.40625 \r\nL 10.984375 69.390625 \r\nL 28.421875 72.90625 \r\nL 38.28125 72.90625 \r\nL 38.28125 8.296875 \r\nL 54.390625 8.296875 \r\nL 54.390625 0 \r\nL 12.40625 0 \r\nz\r\n\" id=\"DejaVuSans-49\"/>\r\n      </defs>\r\n      <g transform=\"translate(7.2 14.798437)scale(0.1 -0.1)\">\r\n       <use xlink:href=\"#DejaVuSans-49\"/>\r\n       <use x=\"63.623047\" xlink:href=\"#DejaVuSans-48\"/>\r\n       <use x=\"127.246094\" xlink:href=\"#DejaVuSans-48\"/>\r\n       <use x=\"190.869141\" xlink:href=\"#DejaVuSans-48\"/>\r\n       <use x=\"254.492188\" xlink:href=\"#DejaVuSans-48\"/>\r\n      </g>\r\n     </g>\r\n    </g>\r\n   </g>\r\n   <g id=\"patch_23\">\r\n    <path d=\"M 46.0125 226.444198 \r\nL 46.0125 9.004198 \r\n\" style=\"fill:none;stroke:#000000;stroke-linecap:square;stroke-linejoin:miter;stroke-width:0.8;\"/>\r\n   </g>\r\n   <g id=\"patch_24\">\r\n    <path d=\"M 380.8125 226.444198 \r\nL 380.8125 9.004198 \r\n\" style=\"fill:none;stroke:#000000;stroke-linecap:square;stroke-linejoin:miter;stroke-width:0.8;\"/>\r\n   </g>\r\n   <g id=\"patch_25\">\r\n    <path d=\"M 46.0125 226.444198 \r\nL 380.8125 226.444198 \r\n\" style=\"fill:none;stroke:#000000;stroke-linecap:square;stroke-linejoin:miter;stroke-width:0.8;\"/>\r\n   </g>\r\n   <g id=\"patch_26\">\r\n    <path d=\"M 46.0125 9.004198 \r\nL 380.8125 9.004198 \r\n\" style=\"fill:none;stroke:#000000;stroke-linecap:square;stroke-linejoin:miter;stroke-width:0.8;\"/>\r\n   </g>\r\n  </g>\r\n </g>\r\n <defs>\r\n  <clipPath id=\"p99abc6f58a\">\r\n   <rect height=\"217.44\" width=\"334.8\" x=\"46.0125\" y=\"9.004198\"/>\r\n  </clipPath>\r\n </defs>\r\n</svg>\r\n",
            "image/png": "[encoded data removed]"
          },
          "metadata": {
            "needs_background": "light"
          }
        }
      ]
    },
    {
      "cell_type": "markdown",
      "metadata": {
        "id": "xT6VHTiUgqlW",
        "colab_type": "text"
      },
      "source": [
        "The above histogram should give you an idea about the distribution of the scores.\n",
        "\n",
        "Notice how the scores are distributed around 0. A word with score 0 can be considered as `neutral`. "
      ]
    },
    {
      "cell_type": "code",
      "metadata": {
        "id": "cEL_GBxFgqlW",
        "colab_type": "code",
        "outputId": "95b98e31-3dbe-4352-a69c-98c8e6f25fdf",
        "colab": {
          "base_uri": "https://localhost:8080/",
          "height": 185
        }
      },
      "source": [
        "# Print few words with neutral score\n",
        "for ind in np.where(scores == 0)[0][0:10]:\n",
        "    print(vocab_selected[ind])"
      ],
      "execution_count": 10,
      "outputs": [
        {
          "output_type": "stream",
          "name": "stdout",
          "text": "bumbles\npeeks\nweighting\natticus\nconcealing\noptimist\ngranola\ngoofiest\nformulated\nenvelopes\n"
        }
      ]
    },
    {
      "cell_type": "markdown",
      "metadata": {
        "id": "GTa69RIMgqlb",
        "colab_type": "text"
      },
      "source": [
        "**APPROACH 1** Implement a simple non-machine learning that only uses the log-ratios to determine if a review is positive or negative. This function will be applied to the test data to calculate the accuracy of the model. \n"
      ]
    },
    {
      "cell_type": "code",
      "metadata": {
        "id": "kkFZcYeVgqlb",
        "colab_type": "code",
        "colab": {}
      },
      "source": [
        "def nonml_classifier(review,pos_neg_ratios):\n",
        "    '''\n",
        "    Function that determines the sentiment for a given review.\n",
        "    \n",
        "    Inputs:\n",
        "      review - A text containing a movie review\n",
        "      pos_neg_ratios - A Counter object containing frequent words\n",
        "                       and corresponding log positive-negative ratio\n",
        "    Return:\n",
        "      sentiment - 'NEGATIVE' or 'POSITIVE'\n",
        "    '''\n",
        "    # TODO: Implement the algorithm here. Change the next line.\n",
        "    postive_count = 0\n",
        "    negative_count = 0\n",
        "    for word in re.sub('\\W+',\" \", review).split(\" \"):\n",
        "        if pos_neg_ratios[word] >= 0.74:\n",
        "          postive_count+=1\n",
        "        elif pos_neg_ratios[word] < -0.74:\n",
        "          negative_count+=1\n",
        "    if(postive_count>=negative_count):\n",
        "      return 'POSITIVE'\n",
        "    else:\n",
        "      return 'NEGATIVE'"
      ],
      "execution_count": 11,
      "outputs": []
    },
    {
      "cell_type": "code",
      "metadata": {
        "id": "DuDpgmZlgqli",
        "colab_type": "code",
        "colab": {}
      },
      "source": [
        "def create_input_vector(review,word2index):\n",
        "    '''\n",
        "    Function to count how many times each word is used in the given review,\n",
        "    # and then store those counts at the appropriate indices inside x.\n",
        "    '''\n",
        "    vocab_size = len(word2index)\n",
        "    x = np.zeros((1, vocab_size))\n",
        "    for w in review.split(' '):\n",
        "        if w in word2index.keys():\n",
        "            x[0][word2index[w]] += 1\n",
        "    return x"
      ],
      "execution_count": 13,
      "outputs": []
    },
    {
      "cell_type": "code",
      "metadata": {
        "id": "6WH33Qoygqle",
        "colab_type": "code",
        "outputId": "71d80de9-6a78-4373-9081-ed9c8a1bef7d",
        "colab": {
          "base_uri": "https://localhost:8080/",
          "height": 34
        }
      },
      "source": [
        "predictions_test = []\n",
        "for r in reviews_test:\n",
        "    l = nonml_classifier(r,pos_neg_ratios)\n",
        "    predictions_test.append(l)\n",
        "\n",
        "# calculate accuracy\n",
        "correct = 0\n",
        "for l,p in zip(sentiments_test,predictions_test):\n",
        "    if l == p:\n",
        "        correct = correct + 1\n",
        "print('Accuracy of the model = {}'.format(correct/len(sentiments_test)))\n",
        "duration = time.time() - start_time\n",
        "print('Time elapsed - {} seconds.'.format(duration))"
      ],
      "execution_count": 12,
      "outputs": [
        {
          "output_type": "stream",
          "name": "stdout",
          "text": "Accuracy of the model = 0.782\nTime elapsed - 89.76610922813416 seconds.\n"
        }
      ]
    },
    {
      "cell_type": "markdown",
      "metadata": {
        "id": "9XvR7It9gqlh",
        "colab_type": "text"
      },
      "source": [
        "**Approach 2** Implement a neural network for sentiment classification. \n",
        "\n",
        "> ### System Configuration\n",
        "This part requires you to use a computer with `tensorflow` library installed. More information is available here - https://www.tensorflow.org.\n",
        " \n"
      ]
    },
    {
      "cell_type": "code",
      "metadata": {
        "id": "381LdLbdgqlk",
        "colab_type": "code",
        "colab": {}
      },
      "source": [
        "def find_ignore_words(pos_neg_ratios):\n",
        "    '''\n",
        "    Function to identify words to ignore from the vocabulary\n",
        "    '''\n",
        "    ignore_words = []\n",
        "    # TODO: Complete the implementation of find_ignore_words\n",
        "    # change the range (0.74, -0.74) of ignored words \n",
        "    ignore_words.append(k for k,v in pos_neg_ratios.most_common() if pos_neg_ratios[k] in range (0.74, -0.74)) \n",
        "    return ignore_words"
      ],
      "execution_count": 14,
      "outputs": []
    },
    {
      "cell_type": "code",
      "metadata": {
        "id": "4Eoj18OUgqlm",
        "colab_type": "code",
        "colab": {}
      },
      "source": [
        "# create a word2index mapping from word to an integer index\n",
        "word2index = {}\n",
        "ignore_words = find_ignore_words(pos_neg_ratios)\n",
        "vocab_selected = list(set(vocab_selected).difference(set(ignore_words)))\n",
        "for i,word in enumerate(vocab_selected):\n",
        "    if word not in ignore_words:\n",
        "        word2index[word] = i\n",
        "vocab_size = len(word2index)"
      ],
      "execution_count": 15,
      "outputs": []
    },
    {
      "cell_type": "markdown",
      "metadata": {
        "id": "HbIb96e0gqlo",
        "colab_type": "text"
      },
      "source": [
        "#### Generate .hdf5 files from the processed data\n",
        "Given that the data is moderately large sized, the `hdf5` file format provides a more efficient file representation for further processing. See [here](https://anaconda.org/anaconda/hdf5) for more details and installation instructions."
      ]
    },
    {
      "cell_type": "code",
      "metadata": {
        "id": "FBLUZhBygqlp",
        "colab_type": "code",
        "colab": {}
      },
      "source": [
        "import h5py"
      ],
      "execution_count": 16,
      "outputs": []
    },
    {
      "cell_type": "code",
      "metadata": {
        "id": "NGQ-gr8agqlr",
        "colab_type": "code",
        "colab": {}
      },
      "source": [
        "# Run the script once to generate the file \n",
        "# delete the exiting 'data1.hdf5' file before running it again to avoid error \n",
        "labels_train = np.zeros((len(sentiments_train), 2), dtype=int)\n",
        "labels_test = np.zeros((len(sentiments_test), 2), dtype=int)\n",
        "\n",
        "with h5py.File('data1.hdf5', 'w') as hf:\n",
        "    hf.create_dataset('data_train', (labels_train.shape[0], vocab_size), np.int16)\n",
        "    hf.create_dataset('data_test', (labels_test.shape[0], vocab_size), np.int16)\n",
        "    # create training data\n",
        "    for i,(r,l) in enumerate(zip(reviews_train, sentiments_train)):\n",
        "        hf[\"data_train\"][i] = create_input_vector(r,word2index)\n",
        "        # one-hot encoding\n",
        "        if l == 'NEGATIVE':\n",
        "            labels_train[i, 0] = 1\n",
        "        else:\n",
        "            labels_train[i, 1] = 1\n",
        "    # create test data\n",
        "    for i,(r,l) in enumerate(zip(reviews_test, sentiments_test)):\n",
        "        hf[\"data_test\"][i] = create_input_vector(r,word2index)\n",
        "        # one-hot encoding\n",
        "        if l == 'NEGATIVE':\n",
        "            labels_test[i, 0] = 1\n",
        "        else:\n",
        "            labels_test[i, 1] = 1"
      ],
      "execution_count": 17,
      "outputs": []
    },
    {
      "cell_type": "code",
      "metadata": {
        "id": "2YtvTK3bgqlt",
        "colab_type": "code",
        "colab": {}
      },
      "source": [
        "import tensorflow.compat.v1 as tf\n",
        "tf.disable_eager_execution()\n",
        "tf.compat.v1.random.set_random_seed(10)"
      ],
      "execution_count": 18,
      "outputs": []
    },
    {
      "cell_type": "code",
      "metadata": {
        "id": "TbaJg2Ucgqlw",
        "colab_type": "code",
        "colab": {}
      },
      "source": [
        "# parameters of the network\n",
        "learning_rate = 0.01\n",
        "batch_size = 400\n",
        "num_epochs = 50\n",
        "n_input = vocab_size\n",
        "n_classes = 2"
      ],
      "execution_count": 19,
      "outputs": []
    },
    {
      "cell_type": "code",
      "metadata": {
        "id": "icXwN0RLgqlz",
        "colab_type": "code",
        "colab": {
          "base_uri": "https://localhost:8080/",
          "height": 87
        },
        "outputId": "dfc700ba-e2be-4aad-dc46-3ff86a3faf99"
      },
      "source": [
        "X = tf.placeholder(\"float\", [None, n_input])\n",
        "Y = tf.placeholder(\"float\", [None, n_classes])\n",
        "\n",
        "# Define weights and biases in Tensorflow according to the parameters set above\n",
        "n_hidden_1 = 10  # 1st layer number of neurons\n",
        "weights = {\n",
        "\t'h1': tf.Variable(tf.random_normal([n_input, n_hidden_1])),\n",
        "\t'out1': tf.Variable(tf.random_normal([n_hidden_1, n_classes]))\n",
        "}\n",
        "biases = {\n",
        "\t'b1': tf.Variable(tf.random_normal([n_hidden_1])),\n",
        "\t'out2': tf.Variable(tf.random_normal([n_classes]))\n",
        "}"
      ],
      "execution_count": 20,
      "outputs": [
        {
          "output_type": "stream",
          "name": "stdout",
          "text": "WARNING:tensorflow:From C:\\ProgramData\\Anaconda3\\lib\\site-packages\\tensorflow_core\\python\\ops\\resource_variable_ops.py:1635: calling BaseResourceVariable.__init__ (from tensorflow.python.ops.resource_variable_ops) with constraint is deprecated and will be removed in a future version.\nInstructions for updating:\nIf using Keras pass *_constraint arguments to layers.\n"
        }
      ]
    },
    {
      "cell_type": "code",
      "execution_count": 21,
      "metadata": {},
      "outputs": [],
      "source": [
        "# TODO: 1---> uncomment these lines for more number of hidden layers\n",
        "# # add more number of hidden layers\n",
        "# n_hidden_1 = 10  # 1st layer number of neurons\n",
        "# n_hidden_2 = 10  # 2nd layer number of neurons\n",
        "# n_hidden_3 = 10  # 3rd layer number of neurons\n",
        "\n",
        "# X = tf.placeholder(\"float\", [None, n_input])\n",
        "# Y = tf.placeholder(\"float\", [None, n_classes])\n",
        "\n",
        "# # Define weights and biases in Tensorflow according to the parameters set above\n",
        "# weights = {\n",
        "# \t'h1': tf.Variable(tf.random_normal([n_input, n_hidden_1])),\n",
        "# \t'h2': tf.Variable(tf.random_normal([n_hidden_1, n_hidden_2])),\n",
        "# \t'h3': tf.Variable(tf.random_normal([n_hidden_2, n_hidden_3])),\n",
        "# \t'out1': tf.Variable(tf.random_normal([n_hidden_3, n_classes]))\n",
        "# }\n",
        "# biases = {\n",
        "# \t'b1': tf.Variable(tf.random_normal([n_hidden_1])),\n",
        "# \t'b2': tf.Variable(tf.random_normal([n_hidden_2])),\n",
        "# \t'b3': tf.Variable(tf.random_normal([n_hidden_3])),\n",
        "# \t'out2': tf.Variable(tf.random_normal([n_classes]))\n",
        "# }\n",
        ""
      ]
    },
    {
      "cell_type": "code",
      "execution_count": 22,
      "metadata": {},
      "outputs": [],
      "source": [
        "# TODO: 2---> uncomment these lines for more number of hidden layers\n",
        "# def multilayer_perceptron(x):\n",
        "#     # define the layers of a multi layer perceptron\n",
        "#     layer_1 = tf.add(tf.matmul(x, weights['h1']), biases['b1'])\n",
        "#     layer_2 = tf.add(tf.matmul(layer_1, weights['h2']), biases['b2'])\n",
        "#     layer_3 = tf.add(tf.matmul(layer_2, weights['h3']), biases['b3'])\n",
        "#     out_layer = tf.nn.sigmoid(tf.matmul(layer_3, weights['out1']) + biases['out2'])\n",
        "#     return out_layer"
      ]
    },
    {
      "cell_type": "code",
      "metadata": {
        "id": "iIj8FaGwgql6",
        "colab_type": "code",
        "colab": {}
      },
      "source": [
        "def multilayer_perceptron(x):\n",
        "    # define the layers of a single layer perceptron\n",
        "    layer_1 = tf.add(tf.matmul(x, weights['h1']), biases['b1'])\n",
        "    out_layer = tf.nn.sigmoid(tf.matmul(layer_1, weights['out1']) + biases['out2'])\n",
        "    return out_layer"
      ],
      "execution_count": 23,
      "outputs": []
    },
    {
      "cell_type": "code",
      "metadata": {
        "id": "-KttQySVgql8",
        "colab_type": "code",
        "colab": {}
      },
      "source": [
        "logits = multilayer_perceptron(X)\n",
        "# Define loss(softmax_cross_entropy_with_logits) and optimizer(AdamOptimizer)\n",
        "loss_op = tf.reduce_mean(tf.nn.softmax_cross_entropy_with_logits_v2(logits=logits, labels=Y))\n",
        "optimizer = tf.train.AdamOptimizer(learning_rate=learning_rate)\n",
        "train_op = optimizer.minimize(loss_op)\n",
        "# Initializing the variables\n",
        "init = tf.global_variables_initializer()"
      ],
      "execution_count": 24,
      "outputs": []
    },
    {
      "cell_type": "code",
      "metadata": {
        "id": "QyclSJbRgql_",
        "colab_type": "code",
        "colab": {}
      },
      "source": [
        "# for some macosx installations, conflicting copies of mpilib causes trouble with tensorflow.\n",
        "# use the following two lines to resolve that issue\n",
        "import os\n",
        "os.environ['KMP_DUPLICATE_LIB_OK']='True'"
      ],
      "execution_count": 25,
      "outputs": []
    },
    {
      "cell_type": "code",
      "metadata": {
        "id": "XqSk9iQGgqmB",
        "colab_type": "code",
        "outputId": "7f19551f-6cc3-4475-c0b1-ae778eefb28b",
        "colab": {
          "base_uri": "https://localhost:8080/",
          "height": 874
        }
      },
      "source": [
        "with tf.Session() as sess:\n",
        "    start_time = time.time()\n",
        "    sess.run(init)\n",
        "\n",
        "    h = h5py.File('data1.hdf5', 'r')\n",
        "    n1 = h.get('data_train') \n",
        "    n2 = h.get('data_test')\n",
        "\n",
        "    # Training cycle\n",
        "    total_batch_train = int(n1.shape[0] / batch_size)\n",
        "    total_batch_test = int(n2.shape[0] / batch_size)\n",
        "\n",
        "    for iter_num in range(num_epochs):\n",
        "        # variables for train and test accuracies\n",
        "        avg_acc_train = 0.\n",
        "        avg_acc_test = 0.\n",
        "        for i in range(total_batch_train):\n",
        "            train_x = n1[(i) * batch_size: (i + 1) * batch_size, ...]\n",
        "            train_y = labels_train[(i) * batch_size: (i + 1) * batch_size, :]\n",
        "\n",
        "            _, c_train, _logits_train = sess.run([train_op, loss_op, logits], feed_dict={X: train_x, Y: train_y})\n",
        "            _label_train = [np.argmax(i) for i in _logits_train]\n",
        "            _label_train_y = [np.argmax(i) for i in train_y]\n",
        "            _accuracy_train = np.mean(np.array(_label_train) == np.array(_label_train_y))\n",
        "            avg_acc_train += _accuracy_train\n",
        "\n",
        "\n",
        "        for j in range(total_batch_test):\n",
        "            test_x = n2[(j) * batch_size: (j + 1) * batch_size, ...]\n",
        "            test_y = labels_test[(j) * batch_size: (j + 1) * batch_size, :]\n",
        "\n",
        "            c_test, _logits_test = sess.run([loss_op, logits], feed_dict={X: test_x, Y: test_y})\n",
        "            _label_test = [np.argmax(i) for i in _logits_test]\n",
        "            _label_test_y = [np.argmax(i) for i in test_y]\n",
        "            _accuracy_test = np.mean(np.array(_label_test) == np.array(_label_test_y))\n",
        "            avg_acc_test += _accuracy_test\n",
        "\n",
        "        # print the train and test accuracies   \n",
        "        print(\"Train acc: %f, Test_acc: %f\" % (avg_acc_train/total_batch_train, avg_acc_test/total_batch_test))\n",
        "    duration = time.time() - start_time\n",
        "    print('Time elapsed - {} seconds.'.format(duration))"
      ],
      "execution_count": 26,
      "outputs": [
        {
          "output_type": "stream",
          "name": "stdout",
          "text": "Train acc: 0.531000, Test_acc: 0.525000\nTrain acc: 0.588083, Test_acc: 0.578750\nTrain acc: 0.641500, Test_acc: 0.655000\nTrain acc: 0.778542, Test_acc: 0.791250\nTrain acc: 0.842667, Test_acc: 0.811250\nTrain acc: 0.867917, Test_acc: 0.825000\nTrain acc: 0.884250, Test_acc: 0.836250\nTrain acc: 0.896250, Test_acc: 0.827500\nTrain acc: 0.903167, Test_acc: 0.847500\nTrain acc: 0.915708, Test_acc: 0.826250\nTrain acc: 0.919125, Test_acc: 0.820000\nTrain acc: 0.926458, Test_acc: 0.853750\nTrain acc: 0.935042, Test_acc: 0.841250\nTrain acc: 0.940000, Test_acc: 0.852500\nTrain acc: 0.943875, Test_acc: 0.843750\nTrain acc: 0.945375, Test_acc: 0.835000\nTrain acc: 0.946042, Test_acc: 0.832500\nTrain acc: 0.948000, Test_acc: 0.841250\nTrain acc: 0.949750, Test_acc: 0.853750\nTrain acc: 0.945250, Test_acc: 0.841250\nTrain acc: 0.943958, Test_acc: 0.837500\nTrain acc: 0.951875, Test_acc: 0.837500\nTrain acc: 0.955708, Test_acc: 0.833750\nTrain acc: 0.957875, Test_acc: 0.836250\nTrain acc: 0.957833, Test_acc: 0.843750\nTrain acc: 0.957167, Test_acc: 0.845000\nTrain acc: 0.958958, Test_acc: 0.846250\nTrain acc: 0.958583, Test_acc: 0.838750\nTrain acc: 0.959333, Test_acc: 0.845000\nTrain acc: 0.960083, Test_acc: 0.842500\nTrain acc: 0.960875, Test_acc: 0.836250\nTrain acc: 0.961833, Test_acc: 0.838750\nTrain acc: 0.961708, Test_acc: 0.833750\nTrain acc: 0.961958, Test_acc: 0.837500\nTrain acc: 0.962875, Test_acc: 0.841250\nTrain acc: 0.963042, Test_acc: 0.840000\nTrain acc: 0.963542, Test_acc: 0.838750\nTrain acc: 0.963917, Test_acc: 0.843750\nTrain acc: 0.963750, Test_acc: 0.845000\nTrain acc: 0.964292, Test_acc: 0.842500\nTrain acc: 0.964083, Test_acc: 0.836250\nTrain acc: 0.964292, Test_acc: 0.842500\nTrain acc: 0.964417, Test_acc: 0.838750\nTrain acc: 0.964750, Test_acc: 0.840000\nTrain acc: 0.964875, Test_acc: 0.845000\nTrain acc: 0.964917, Test_acc: 0.832500\nTrain acc: 0.964750, Test_acc: 0.831250\nTrain acc: 0.964750, Test_acc: 0.846250\nTrain acc: 0.964167, Test_acc: 0.837500\nTrain acc: 0.964667, Test_acc: 0.842500\nTime elapsed - 175.99828696250916 seconds.\n"
        }
      ]
    }
  ]
}